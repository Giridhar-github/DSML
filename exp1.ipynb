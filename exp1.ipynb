{
  "nbformat": 4,
  "nbformat_minor": 0,
  "metadata": {
    "colab": {
      "name": "exp1.ipynb",
      "provenance": [],
      "authorship_tag": "ABX9TyPQcSi7yzACsilf5yoxyN3p",
      "include_colab_link": true
    },
    "kernelspec": {
      "name": "python3",
      "display_name": "Python 3"
    },
    "language_info": {
      "name": "python"
    }
  },
  "cells": [
    {
      "cell_type": "markdown",
      "metadata": {
        "id": "view-in-github",
        "colab_type": "text"
      },
      "source": [
        "<a href=\"https://colab.research.google.com/github/Giridhar-github/DSML/blob/main/exp1.ipynb\" target=\"_parent\"><img src=\"https://colab.research.google.com/assets/colab-badge.svg\" alt=\"Open In Colab\"/></a>"
      ]
    },
    {
      "cell_type": "code",
      "metadata": {
        "colab": {
          "base_uri": "https://localhost:8080/"
        },
        "id": "XGT7Xi5raYvJ",
        "outputId": "798a2ad1-0a47-41b0-9f91-84d28b83a10e"
      },
      "source": [
        "a=1\n",
        "print(type(a))\n",
        "b='appus'\n",
        "print(type(b))\n",
        "c=[1,2]\n",
        "print(type(c))\n",
        "d={1:'hari',2:'aswathy'}\n",
        "print(type(d))"
      ],
      "execution_count": 9,
      "outputs": [
        {
          "output_type": "stream",
          "name": "stdout",
          "text": [
            "<class 'int'>\n",
            "<class 'str'>\n",
            "<class 'list'>\n",
            "<class 'dict'>\n"
          ]
        }
      ]
    }
  ]
}
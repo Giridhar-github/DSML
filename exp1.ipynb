{
  "nbformat": 4,
  "nbformat_minor": 0,
  "metadata": {
    "colab": {
      "name": "exp1.ipynb",
      "provenance": [],
      "collapsed_sections": [],
      "authorship_tag": "ABX9TyOA8Fl5hy4ju8eLGlielcgp",
      "include_colab_link": true
    },
    "kernelspec": {
      "name": "python3",
      "display_name": "Python 3"
    },
    "language_info": {
      "name": "python"
    }
  },
  "cells": [
    {
      "cell_type": "markdown",
      "metadata": {
        "id": "view-in-github",
        "colab_type": "text"
      },
      "source": [
        "<a href=\"https://colab.research.google.com/github/Giridhar-github/DSML/blob/main/exp1.ipynb\" target=\"_parent\"><img src=\"https://colab.research.google.com/assets/colab-badge.svg\" alt=\"Open In Colab\"/></a>"
      ]
    },
    {
      "cell_type": "markdown",
      "metadata": {
        "id": "bN3fOoVgfQFZ"
      },
      "source": [
        "a. Data Types"
      ]
    },
    {
      "cell_type": "code",
      "metadata": {
        "colab": {
          "base_uri": "https://localhost:8080/"
        },
        "id": "XGT7Xi5raYvJ",
        "outputId": "dbb4ca67-414f-44d0-bfae-3290330959a6"
      },
      "source": [
        "a=1\n",
        "print(type(a))\n",
        "b='appus'\n",
        "print(type(b))\n",
        "c=[1,2]\n",
        "print(type(c))\n",
        "d={1:'hari',2:'aswathy'}\n",
        "print(type(d))\n",
        "e=True\n",
        "print(type(e))\n",
        "f=53.7\n",
        "print(type(f))\n",
        "g={\"Hari\",\"Aswathy\"}\n",
        "print(type(g))\n",
        "h=(1,2)\n",
        "print(type(h))\n",
        "i=bytes()\n",
        "print(type(i))\n",
        "j=bytearray()\n",
        "print(type(j))\n",
        "k=range(4)\n",
        "print(type(k))"
      ],
      "execution_count": null,
      "outputs": [
        {
          "output_type": "stream",
          "name": "stdout",
          "text": [
            "<class 'int'>\n",
            "<class 'str'>\n",
            "<class 'list'>\n",
            "<class 'dict'>\n",
            "<class 'bool'>\n",
            "<class 'float'>\n",
            "<class 'set'>\n",
            "<class 'tuple'>\n",
            "<class 'bytes'>\n",
            "<class 'bytearray'>\n",
            "<class 'range'>\n"
          ]
        }
      ]
    },
    {
      "cell_type": "markdown",
      "metadata": {
        "id": "-LgE_Sg1fKgL"
      },
      "source": [
        "b. Containers"
      ]
    },
    {
      "cell_type": "code",
      "metadata": {
        "colab": {
          "base_uri": "https://localhost:8080/"
        },
        "id": "xJYbGPo2fmo2",
        "outputId": "d94dc975-fed6-44e5-d3c5-5914d82855fd"
      },
      "source": [
        "#list\n",
        "my_list=['hari','aswathy','anjaly','anagha']\n",
        "print(my_list[0])\n",
        "print(my_list[2])\n",
        "print(my_list[3])\n",
        "print(my_list[0:2])\n",
        "print(my_list[ : ])\n",
        "print(my_list[-2])\n"
      ],
      "execution_count": null,
      "outputs": [
        {
          "output_type": "stream",
          "name": "stdout",
          "text": [
            "hari\n",
            "anjaly\n",
            "anagha\n",
            "['hari', 'aswathy']\n",
            "['hari', 'aswathy', 'anjaly', 'anagha']\n",
            "anjaly\n"
          ]
        }
      ]
    },
    {
      "cell_type": "code",
      "metadata": {
        "colab": {
          "base_uri": "https://localhost:8080/"
        },
        "id": "jHIZemnOh6oH",
        "outputId": "60d94142-0335-42ff-9515-dba15ebd9c15"
      },
      "source": [
        "#dictionary\n",
        "d={1:'hari',2:'aswathy',3:'anjaly'}\n",
        "print(d)\n",
        "print('1st name is '+d[1])\n",
        "print('4th name is '+d[2])\n",
        "print(d.keys())\n",
        "print(d.values())"
      ],
      "execution_count": null,
      "outputs": [
        {
          "output_type": "stream",
          "name": "stdout",
          "text": [
            "{1: 'hari', 2: 'aswathy', 3: 'anjaly'}\n",
            "1st name is hari\n",
            "4th name is aswathy\n",
            "dict_keys([1, 2, 3])\n",
            "dict_values(['hari', 'aswathy', 'anjaly'])\n"
          ]
        }
      ]
    },
    {
      "cell_type": "code",
      "metadata": {
        "colab": {
          "base_uri": "https://localhost:8080/"
        },
        "id": "WsEkeZCaVXEm",
        "outputId": "264a4cb5-bed7-4452-d3f6-84d50db7911e"
      },
      "source": [
        "#sets\n",
        "k={1,2,3}\n",
        "print(k)\n",
        "m={1.0,\"hello\",(1,2,3)}\n",
        "print(m)\n",
        "n=set([1,2,3,2])\n",
        "print(n)\n",
        "o=set([\"helloworld\"])\n",
        "print(o)"
      ],
      "execution_count": 1,
      "outputs": [
        {
          "output_type": "stream",
          "name": "stdout",
          "text": [
            "{1, 2, 3}\n",
            "{1.0, 'hello', (1, 2, 3)}\n",
            "{1, 2, 3}\n",
            "{'helloworld'}\n"
          ]
        }
      ]
    },
    {
      "cell_type": "markdown",
      "metadata": {
        "id": "DyX0aNZVSnKA"
      },
      "source": [
        "C. Functions and Return Statements"
      ]
    },
    {
      "cell_type": "code",
      "metadata": {
        "id": "tpwr_fMefmnv",
        "colab": {
          "base_uri": "https://localhost:8080/"
        },
        "outputId": "7311cd85-7ce8-4613-9025-bec1bf8e6c6f"
      },
      "source": [
        "def add(a,b):\n",
        "  return a+b\n",
        "res=add(2,3)\n",
        "print(\"sum \", res)"
      ],
      "execution_count": null,
      "outputs": [
        {
          "output_type": "stream",
          "name": "stdout",
          "text": [
            "sum  5\n"
          ]
        }
      ]
    },
    {
      "cell_type": "code",
      "metadata": {
        "id": "tjLAD7xbVmje"
      },
      "source": [
        ""
      ],
      "execution_count": null,
      "outputs": []
    },
    {
      "cell_type": "code",
      "metadata": {
        "colab": {
          "base_uri": "https://localhost:8080/"
        },
        "id": "_EfeNhiyVmkf",
        "outputId": "d95fe1ec-a510-4568-e755-06bfd62c86aa"
      },
      "source": [
        "def recfact(n):\n",
        "  if n==1:\n",
        "    return n\n",
        "  else:\n",
        "    return n*recfact(n-1)\n",
        "num=7\n",
        "if num<0:\n",
        "  print(\"Factorial not possible...!\")\n",
        "elif num==0:\n",
        "  print(\"Factorial of 0 is 1.\")\n",
        "else:\n",
        "  print(\"Factorial of \",num,\" is \",recfact(num))\n"
      ],
      "execution_count": null,
      "outputs": [
        {
          "output_type": "stream",
          "name": "stdout",
          "text": [
            "Factorial of  7  is  5040\n"
          ]
        }
      ]
    },
    {
      "cell_type": "code",
      "metadata": {
        "id": "nR805AxzV4cb"
      },
      "source": [
        ""
      ],
      "execution_count": null,
      "outputs": []
    }
  ]
}
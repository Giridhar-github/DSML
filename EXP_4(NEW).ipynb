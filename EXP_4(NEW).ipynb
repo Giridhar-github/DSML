{
  "nbformat": 4,
  "nbformat_minor": 0,
  "metadata": {
    "colab": {
      "name": "EXP-4(NEW).ipynb",
      "provenance": [],
      "collapsed_sections": [],
      "include_colab_link": true
    },
    "kernelspec": {
      "name": "python3",
      "display_name": "Python 3"
    },
    "language_info": {
      "name": "python"
    }
  },
  "cells": [
    {
      "cell_type": "markdown",
      "metadata": {
        "id": "view-in-github",
        "colab_type": "text"
      },
      "source": [
        "<a href=\"https://colab.research.google.com/github/Giridhar-github/DSML/blob/main/EXP_4(NEW).ipynb\" target=\"_parent\"><img src=\"https://colab.research.google.com/assets/colab-badge.svg\" alt=\"Open In Colab\"/></a>"
      ]
    },
    {
      "cell_type": "code",
      "metadata": {
        "id": "rwXlxpj-cNZ9"
      },
      "source": [
        "import pandas as pd\n",
        "import numpy as np \n",
        "import matplotlib.pyplot as plt\n",
        "import seaborn as sns\n",
        "from scipy import stats"
      ],
      "execution_count": null,
      "outputs": []
    },
    {
      "cell_type": "code",
      "metadata": {
        "id": "tNaRPOsLcScA"
      },
      "source": [
        "movies_df = pd.read_csv(\"movie_metadata.csv\")"
      ],
      "execution_count": null,
      "outputs": []
    },
    {
      "cell_type": "code",
      "metadata": {
        "colab": {
          "base_uri": "https://localhost:8080/"
        },
        "id": "9VgOtAG9cWi1",
        "outputId": "2231afc3-e2cc-4a2b-fbe8-f8edc275a65c"
      },
      "source": [
        "#print the first few rows with headers\n",
        "print(movies_df.head(3))"
      ],
      "execution_count": null,
      "outputs": [
        {
          "output_type": "stream",
          "name": "stdout",
          "text": [
            "   color   director_name  ...  aspect_ratio  movie_facebook_likes\n",
            "0  Color   James Cameron  ...          1.78                 33000\n",
            "1  Color  Gore Verbinski  ...          2.35                     0\n",
            "2  Color      Sam Mendes  ...          2.35                 85000\n",
            "\n",
            "[3 rows x 28 columns]\n"
          ]
        }
      ]
    },
    {
      "cell_type": "code",
      "metadata": {
        "colab": {
          "base_uri": "https://localhost:8080/"
        },
        "id": "8TzBTo9scjwq",
        "outputId": "f1d8a66b-b626-40e4-81c7-14ffbeac4767"
      },
      "source": [
        "#discriptive statistics\n",
        "print(movies_df.describe())"
      ],
      "execution_count": null,
      "outputs": [
        {
          "output_type": "stream",
          "name": "stdout",
          "text": [
            "       num_critic_for_reviews     duration  ...  aspect_ratio  movie_facebook_likes\n",
            "count             4993.000000  5028.000000  ...   4714.000000           5043.000000\n",
            "mean               140.194272   107.201074  ...      2.220403           7525.964505\n",
            "std                121.601675    25.197441  ...      1.385113          19320.445110\n",
            "min                  1.000000     7.000000  ...      1.180000              0.000000\n",
            "25%                 50.000000    93.000000  ...      1.850000              0.000000\n",
            "50%                110.000000   103.000000  ...      2.350000            166.000000\n",
            "75%                195.000000   118.000000  ...      2.350000           3000.000000\n",
            "max                813.000000   511.000000  ...     16.000000         349000.000000\n",
            "\n",
            "[8 rows x 16 columns]\n"
          ]
        }
      ]
    },
    {
      "cell_type": "code",
      "metadata": {
        "colab": {
          "base_uri": "https://localhost:8080/"
        },
        "id": "Qg1euDDNc0fV",
        "outputId": "1f817c70-085b-4acf-d27a-1b92fac5e91b"
      },
      "source": [
        "# check the column names\n",
        "print(\"column names: %s\" %movies_df.columns.values)"
      ],
      "execution_count": null,
      "outputs": [
        {
          "output_type": "stream",
          "name": "stdout",
          "text": [
            "column names: ['color' 'director_name' 'num_critic_for_reviews' 'duration'\n",
            " 'director_facebook_likes' 'actor_3_facebook_likes' 'actor_2_name'\n",
            " 'actor_1_facebook_likes' 'gross' 'genres' 'actor_1_name' 'movie_title'\n",
            " 'num_voted_users' 'cast_total_facebook_likes' 'actor_3_name'\n",
            " 'facenumber_in_poster' 'plot_keywords' 'movie_imdb_link'\n",
            " 'num_user_for_reviews' 'language' 'country' 'content_rating' 'budget'\n",
            " 'title_year' 'actor_2_facebook_likes' 'imdb_score' 'aspect_ratio'\n",
            " 'movie_facebook_likes']\n"
          ]
        }
      ]
    },
    {
      "cell_type": "code",
      "metadata": {
        "colab": {
          "base_uri": "https://localhost:8080/"
        },
        "id": "gLPfj5dadByy",
        "outputId": "5694a6ca-712f-4cc8-a71d-9df74b418cc2"
      },
      "source": [
        "print(movies_df.dtypes)\n",
        "print(movies_df.shape)"
      ],
      "execution_count": null,
      "outputs": [
        {
          "output_type": "stream",
          "name": "stdout",
          "text": [
            "color                         object\n",
            "director_name                 object\n",
            "num_critic_for_reviews       float64\n",
            "duration                     float64\n",
            "director_facebook_likes      float64\n",
            "actor_3_facebook_likes       float64\n",
            "actor_2_name                  object\n",
            "actor_1_facebook_likes       float64\n",
            "gross                        float64\n",
            "genres                        object\n",
            "actor_1_name                  object\n",
            "movie_title                   object\n",
            "num_voted_users                int64\n",
            "cast_total_facebook_likes      int64\n",
            "actor_3_name                  object\n",
            "facenumber_in_poster         float64\n",
            "plot_keywords                 object\n",
            "movie_imdb_link               object\n",
            "num_user_for_reviews         float64\n",
            "language                      object\n",
            "country                       object\n",
            "content_rating                object\n",
            "budget                       float64\n",
            "title_year                   float64\n",
            "actor_2_facebook_likes       float64\n",
            "imdb_score                   float64\n",
            "aspect_ratio                 float64\n",
            "movie_facebook_likes           int64\n",
            "dtype: object\n",
            "(5043, 28)\n"
          ]
        }
      ]
    },
    {
      "cell_type": "code",
      "metadata": {
        "colab": {
          "base_uri": "https://localhost:8080/"
        },
        "id": "YO_B30RZdbMu",
        "outputId": "657cb466-1d62-4a81-e13d-48e739b44014"
      },
      "source": [
        "#check null data \n",
        "print(\"null values: \\n\")\n",
        "print(movies_df.isna()) # same as movies_df.isnull().sum()\n",
        "print(movies_df.isna().sum())\n",
        "print(\"null values %s\" %movies_df.isnull().values.any())\n",
        "print (\"total null values %d\" %movies_df.isna().sum().sum())\n",
        "print (movies_df.describe())"
      ],
      "execution_count": null,
      "outputs": [
        {
          "output_type": "stream",
          "name": "stdout",
          "text": [
            "null values: \n",
            "\n",
            "      color  director_name  ...  aspect_ratio  movie_facebook_likes\n",
            "0     False          False  ...         False                 False\n",
            "1     False          False  ...         False                 False\n",
            "2     False          False  ...         False                 False\n",
            "3     False          False  ...         False                 False\n",
            "4      True          False  ...          True                 False\n",
            "...     ...            ...  ...           ...                   ...\n",
            "5038  False          False  ...          True                 False\n",
            "5039  False           True  ...         False                 False\n",
            "5040  False          False  ...          True                 False\n",
            "5041  False          False  ...         False                 False\n",
            "5042  False          False  ...         False                 False\n",
            "\n",
            "[5043 rows x 28 columns]\n",
            "color                         19\n",
            "director_name                104\n",
            "num_critic_for_reviews        50\n",
            "duration                      15\n",
            "director_facebook_likes      104\n",
            "actor_3_facebook_likes        23\n",
            "actor_2_name                  13\n",
            "actor_1_facebook_likes         7\n",
            "gross                        884\n",
            "genres                         0\n",
            "actor_1_name                   7\n",
            "movie_title                    0\n",
            "num_voted_users                0\n",
            "cast_total_facebook_likes      0\n",
            "actor_3_name                  23\n",
            "facenumber_in_poster          13\n",
            "plot_keywords                153\n",
            "movie_imdb_link                0\n",
            "num_user_for_reviews          21\n",
            "language                      12\n",
            "country                        5\n",
            "content_rating               303\n",
            "budget                       492\n",
            "title_year                   108\n",
            "actor_2_facebook_likes        13\n",
            "imdb_score                     0\n",
            "aspect_ratio                 329\n",
            "movie_facebook_likes           0\n",
            "dtype: int64\n",
            "null values True\n",
            "total null values 2698\n",
            "       num_critic_for_reviews     duration  ...  aspect_ratio  movie_facebook_likes\n",
            "count             4993.000000  5028.000000  ...   4714.000000           5043.000000\n",
            "mean               140.194272   107.201074  ...      2.220403           7525.964505\n",
            "std                121.601675    25.197441  ...      1.385113          19320.445110\n",
            "min                  1.000000     7.000000  ...      1.180000              0.000000\n",
            "25%                 50.000000    93.000000  ...      1.850000              0.000000\n",
            "50%                110.000000   103.000000  ...      2.350000            166.000000\n",
            "75%                195.000000   118.000000  ...      2.350000           3000.000000\n",
            "max                813.000000   511.000000  ...     16.000000         349000.000000\n",
            "\n",
            "[8 rows x 16 columns]\n"
          ]
        }
      ]
    },
    {
      "cell_type": "code",
      "metadata": {
        "id": "a-Cyadp_d_Gc"
      },
      "source": [
        "#clean the dataset by droping the na values\n",
        "clean_movies_df = movies_df.dropna(how='any')\n",
        "movies_df = movies_df.dropna(how='any')"
      ],
      "execution_count": null,
      "outputs": []
    },
    {
      "cell_type": "code",
      "metadata": {
        "colab": {
          "base_uri": "https://localhost:8080/"
        },
        "id": "11R1iH4DeKQK",
        "outputId": "fec49862-c12b-439e-ff9b-8dc0a818d4b1"
      },
      "source": [
        "print(clean_movies_df.shape)\n",
        "\n",
        "#use fillna attribute of pandas \n",
        "#for filling up missing values in all columns  \n",
        "movies_df.fillna(value=0, inplace=True)"
      ],
      "execution_count": null,
      "outputs": [
        {
          "output_type": "stream",
          "name": "stdout",
          "text": [
            "(3756, 28)\n"
          ]
        }
      ]
    },
    {
      "cell_type": "code",
      "metadata": {
        "colab": {
          "base_uri": "https://localhost:8080/"
        },
        "id": "IryRiH8oiV_A",
        "outputId": "0e742b04-0dd1-401a-cffe-cde627229e59"
      },
      "source": [
        "#for this dataframe we can use 'missing' in the columns of object data types for \n",
        "#example language or movie_imdb_link\n",
        "\n",
        "movies_df['language'].fillna(\"no info\", inplace=True) \n",
        "\n",
        "print (\"null values %s\" %movies_df.isna().sum())"
      ],
      "execution_count": null,
      "outputs": [
        {
          "output_type": "stream",
          "name": "stdout",
          "text": [
            "null values color                        0\n",
            "director_name                0\n",
            "num_critic_for_reviews       0\n",
            "duration                     0\n",
            "director_facebook_likes      0\n",
            "actor_3_facebook_likes       0\n",
            "actor_2_name                 0\n",
            "actor_1_facebook_likes       0\n",
            "gross                        0\n",
            "genres                       0\n",
            "actor_1_name                 0\n",
            "movie_title                  0\n",
            "num_voted_users              0\n",
            "cast_total_facebook_likes    0\n",
            "actor_3_name                 0\n",
            "facenumber_in_poster         0\n",
            "plot_keywords                0\n",
            "movie_imdb_link              0\n",
            "num_user_for_reviews         0\n",
            "language                     0\n",
            "country                      0\n",
            "content_rating               0\n",
            "budget                       0\n",
            "title_year                   0\n",
            "actor_2_facebook_likes       0\n",
            "imdb_score                   0\n",
            "aspect_ratio                 0\n",
            "movie_facebook_likes         0\n",
            "dtype: int64\n"
          ]
        }
      ]
    },
    {
      "cell_type": "code",
      "metadata": {
        "colab": {
          "base_uri": "https://localhost:8080/"
        },
        "id": "BmyG4fcTioij",
        "outputId": "f66b235d-d479-4abb-9263-0274ccbbf137"
      },
      "source": [
        "#++++++++++++++++++++++++++++++++++++++++++++++++++++++++++++++++++++++++\n",
        "\n",
        "# check if there are duplicate rows or not \n",
        "\n",
        "#++++++++++++++++++++++++++++++++++++++++++++++++++++++++++++++++++++++++\n",
        "\n",
        "duplicate_rows_df = movies_df[movies_df.duplicated()]\n",
        "print (duplicate_rows_df.shape)"
      ],
      "execution_count": null,
      "outputs": [
        {
          "output_type": "stream",
          "name": "stdout",
          "text": [
            "(33, 28)\n"
          ]
        }
      ]
    },
    {
      "cell_type": "code",
      "metadata": {
        "colab": {
          "base_uri": "https://localhost:8080/"
        },
        "id": "Ud5mTB3piu3X",
        "outputId": "9b792d1d-d161-4feb-cd68-51ea3b4d0de3"
      },
      "source": [
        "print (duplicate_rows_df.head(6))\n",
        "print (movies_df['movie_imdb_link'].head(3))"
      ],
      "execution_count": null,
      "outputs": [
        {
          "output_type": "stream",
          "name": "stdout",
          "text": [
            "     color director_name  ...  aspect_ratio  movie_facebook_likes\n",
            "137  Color   David Yates  ...          2.35                 29000\n",
            "187  Color   Bill Condon  ...          2.35                 65000\n",
            "303  Color    Joe Wright  ...          2.35                 24000\n",
            "389  Color    Josh Trank  ...          2.35                 41000\n",
            "395  Color     Rob Cohen  ...          2.35                 14000\n",
            "590  Color  Brett Ratner  ...          2.35                 21000\n",
            "\n",
            "[6 rows x 28 columns]\n",
            "0    http://www.imdb.com/title/tt0499549/?ref_=fn_t...\n",
            "1    http://www.imdb.com/title/tt0449088/?ref_=fn_t...\n",
            "2    http://www.imdb.com/title/tt2379713/?ref_=fn_t...\n",
            "Name: movie_imdb_link, dtype: object\n"
          ]
        }
      ]
    },
    {
      "cell_type": "code",
      "metadata": {
        "colab": {
          "base_uri": "https://localhost:8080/"
        },
        "id": "R9ADUbbfi9fa",
        "outputId": "e6d4c9b7-79b4-4c56-d4da-7e2b64e811b0"
      },
      "source": [
        "duplicate_rows_df_imdb_link = movies_df[movies_df.duplicated(['movie_imdb_link'])]\n",
        "print (duplicate_rows_df_imdb_link.head(3))\n",
        "print (duplicate_rows_df_imdb_link.shape)\n",
        "\n"
      ],
      "execution_count": null,
      "outputs": [
        {
          "output_type": "stream",
          "name": "stdout",
          "text": [
            "     color director_name  ...  aspect_ratio  movie_facebook_likes\n",
            "137  Color   David Yates  ...          2.35                 29000\n",
            "187  Color   Bill Condon  ...          2.35                 65000\n",
            "303  Color    Joe Wright  ...          2.35                 24000\n",
            "\n",
            "[3 rows x 28 columns]\n",
            "(100, 28)\n"
          ]
        }
      ]
    },
    {
      "cell_type": "code",
      "metadata": {
        "colab": {
          "base_uri": "https://localhost:8080/"
        },
        "id": "tp3Fm08pjHBr",
        "outputId": "66f02302-c04c-45cd-99eb-1174ef299f8b"
      },
      "source": [
        "print (len(movies_df.movie_imdb_link.unique()))\n",
        "# select duplicate rows except first occurences, consider all columns  \n",
        "duplicate_rows_df = movies_df[movies_df.duplicated()]\n",
        "print (type(duplicate_rows_df)) # dataframe \n",
        "print (duplicate_rows_df.shape)"
      ],
      "execution_count": null,
      "outputs": [
        {
          "output_type": "stream",
          "name": "stdout",
          "text": [
            "3656\n",
            "<class 'pandas.core.frame.DataFrame'>\n",
            "(33, 28)\n"
          ]
        }
      ]
    },
    {
      "cell_type": "code",
      "metadata": {
        "colab": {
          "base_uri": "https://localhost:8080/"
        },
        "id": "jzAdS_Tyjbbz",
        "outputId": "25518768-8b7d-492e-8c3b-67b2888c9d11"
      },
      "source": [
        "#++++++++++++++++++++++++++++++++\n",
        "# drop_duplicates\n",
        "#++++++++++++++++++++++++++++++++\n",
        "\n",
        "#Drop duplicate rows (duplicate values for all entries)\n",
        "print (movies_df.shape)\n",
        "print (\"shape of dataframe after dropping duplicates\")\n",
        "print (movies_df.drop_duplicates().shape)\n"
      ],
      "execution_count": null,
      "outputs": [
        {
          "output_type": "stream",
          "name": "stdout",
          "text": [
            "(3756, 28)\n",
            "shape of dataframe after dropping duplicates\n",
            "(3723, 28)\n"
          ]
        }
      ]
    },
    {
      "cell_type": "code",
      "metadata": {
        "colab": {
          "base_uri": "https://localhost:8080/"
        },
        "id": "wcEuUGCfkGhU",
        "outputId": "0f0cda18-4cef-41e2-c64a-0c1f55828ef8"
      },
      "source": [
        "#+++++++++++++++++++++++++++++++++++++++++++++++\n",
        "#+ discretization or binning\n",
        "#+++++++++++++++++++++++++++++++++++++++++++++++\n",
        "\n",
        "print (movies_df['imdb_score'][5:10])\n",
        "# check the miminmum value of all columns\n",
        "print (\"minimum values of all cloumn:\") \n",
        "print (movies_df.min())"
      ],
      "execution_count": null,
      "outputs": [
        {
          "output_type": "stream",
          "name": "stdout",
          "text": [
            "6     6.2\n",
            "7     7.8\n",
            "8     7.5\n",
            "9     7.5\n",
            "10    6.9\n",
            "Name: imdb_score, dtype: float64\n",
            "minimum values of all cloumn:\n",
            "color                                                          Black and White\n",
            "director_name                                                  Aaron Schneider\n",
            "num_critic_for_reviews                                                       2\n",
            "duration                                                                    37\n",
            "director_facebook_likes                                                      0\n",
            "actor_3_facebook_likes                                                       0\n",
            "actor_2_name                                                           50 Cent\n",
            "actor_1_facebook_likes                                                       0\n",
            "gross                                                                      162\n",
            "genres                                                                  Action\n",
            "actor_1_name                                                           50 Cent\n",
            "movie_title                                               10 Cloverfield Lane \n",
            "num_voted_users                                                             91\n",
            "cast_total_facebook_likes                                                    0\n",
            "actor_3_name                                                           50 Cent\n",
            "facenumber_in_poster                                                         0\n",
            "plot_keywords                         10 year old|dog|florida|girl|supermarket\n",
            "movie_imdb_link              http://www.imdb.com/title/tt0017136/?ref_=fn_t...\n",
            "num_user_for_reviews                                                         4\n",
            "language                                                            Aboriginal\n",
            "country                                                            Afghanistan\n",
            "content_rating                                                        Approved\n",
            "budget                                                                     218\n",
            "title_year                                                                1927\n",
            "actor_2_facebook_likes                                                       0\n",
            "imdb_score                                                                 1.6\n",
            "aspect_ratio                                                              1.18\n",
            "movie_facebook_likes                                                         0\n",
            "dtype: object\n"
          ]
        }
      ]
    },
    {
      "cell_type": "code",
      "metadata": {
        "colab": {
          "base_uri": "https://localhost:8080/"
        },
        "id": "p_DeRh-wkVIO",
        "outputId": "191d681a-0912-427b-f533-667d052c8c00"
      },
      "source": [
        "print (movies_df['imdb_score'].idxmax())\n",
        "print (movies_df.loc[movies_df['imdb_score'].idxmax(), 'movie_title'])\n",
        "print (movies_df['movie_title'].loc[2764:2767])\n",
        "print (movies_df[['movie_title','budget']].loc[2986:2990])"
      ],
      "execution_count": null,
      "outputs": [
        {
          "output_type": "stream",
          "name": "stdout",
          "text": [
            "1937\n",
            "The Shawshank Redemption \n",
            "2764           Pretty Woman \n",
            "2766    Crocodile Dundee II \n",
            "Name: movie_title, dtype: object\n",
            "       movie_title        budget\n",
            "2986   Two Lovers   1.200000e+07\n",
            "2987  Last Orders   1.200000e+07\n",
            "2988     The Host   1.221550e+10\n",
            "2990     Ravenous   1.200000e+07\n"
          ]
        }
      ]
    },
    {
      "cell_type": "code",
      "metadata": {
        "colab": {
          "base_uri": "https://localhost:8080/",
          "height": 924
        },
        "id": "FM0Jinogk4xk",
        "outputId": "33e84bb7-61e5-4384-ade2-5d01842eb5e9"
      },
      "source": [
        "# check the distribution of imdb score\n",
        "fig = plt.figure(figsize=(10,7))\n",
        "sns.distplot(movies_df['imdb_score'])\n",
        "plt.xlabel('IMDB Score', fontsize=12)\n",
        "sns.jointplot(x='budget', y='imdb_score', data=movies_df); \n",
        "plt.show()"
      ],
      "execution_count": null,
      "outputs": [
        {
          "output_type": "stream",
          "name": "stderr",
          "text": [
            "/usr/local/lib/python3.7/dist-packages/seaborn/distributions.py:2619: FutureWarning: `distplot` is a deprecated function and will be removed in a future version. Please adapt your code to use either `displot` (a figure-level function with similar flexibility) or `histplot` (an axes-level function for histograms).\n",
            "  warnings.warn(msg, FutureWarning)\n"
          ]
        },
        {
          "output_type": "display_data",
          "data": {
            "image/png": "[encoded data removed]",
            "text/plain": [
              "<Figure size 720x504 with 1 Axes>"
            ]
          },
          "metadata": {
            "needs_background": "light"
          }
        },
        {
          "output_type": "display_data",
          "data": {
            "image/png": "[encoded data removed]",
            "text/plain": [
              "<Figure size 432x432 with 3 Axes>"
            ]
          },
          "metadata": {
            "needs_background": "light"
          }
        }
      ]
    },
    {
      "cell_type": "code",
      "metadata": {
        "colab": {
          "base_uri": "https://localhost:8080/"
        },
        "id": "gn9yqySrlLa3",
        "outputId": "deb85865-11c2-4867-9969-a78f2654ca4d"
      },
      "source": [
        "# based on the 'imdb_score' we will discritize the movies in 3 categories ['shyte', 'moderate', 'good']\n",
        "# similar with pd.cut method described in McKinney's book\n",
        "op_labels = ['bad', 'moderate', 'good']\n",
        "category = [0.,4.,7.,10.]\n",
        "movies_df['imdb_labels'] = pd.cut(movies_df['imdb_score'], labels=op_labels, bins=category, include_lowest=False)\n",
        "print (movies_df[['movie_title', 'imdb_score', 'imdb_labels']][209:220])"
      ],
      "execution_count": null,
      "outputs": [
        {
          "output_type": "stream",
          "name": "stdout",
          "text": [
            "                                 movie_title  imdb_score imdb_labels\n",
            "218          How the Grinch Stole Christmas          6.0    moderate\n",
            "219                  The Day After Tomorrow          6.4    moderate\n",
            "220                  Mission: Impossible II          6.1    moderate\n",
            "221                       The Perfect Storm          6.4    moderate\n",
            "222  Fantastic 4: Rise of the Silver Surfer          5.6    moderate\n",
            "223                              Life of Pi          8.0        good\n",
            "224                             Ghost Rider          5.2    moderate\n",
            "225                            Jason Bourne          7.1        good\n",
            "226         Charlie's Angels: Full Throttle          4.8    moderate\n",
            "227                              Prometheus          7.0    moderate\n",
            "228                         Stuart Little 2          5.4    moderate\n"
          ]
        }
      ]
    },
    {
      "cell_type": "markdown",
      "source": [
        "OUTLIER"
      ],
      "metadata": {
        "id": "DPKW4g_e3p_G"
      }
    },
    {
      "cell_type": "code",
      "metadata": {
        "colab": {
          "base_uri": "https://localhost:8080/",
          "height": 283
        },
        "id": "Ad54FpePnecQ",
        "outputId": "72f70ebe-e5d8-4dca-f8bb-7b07e5b02878"
      },
      "source": [
        "#___________________________________________\n",
        "# First check with box plot \n",
        "#___________________________________________\n",
        "\n",
        "# let's try to plot boxplot with seaborn \n",
        "sns.boxplot(x=movies_df['facenumber_in_poster'], color='lime')\n",
        "plt.xlabel('No. of Actors Featured in Poster', fontsize=14)\n",
        "plt.show()"
      ],
      "execution_count": null,
      "outputs": [
        {
          "output_type": "display_data",
          "data": {
            "image/png": "[encoded data removed]",
            "text/plain": [
              "<Figure size 432x288 with 1 Axes>"
            ]
          },
          "metadata": {
            "needs_background": "light"
          }
        }
      ]
    },
    {
      "cell_type": "code",
      "metadata": {
        "colab": {
          "base_uri": "https://localhost:8080/"
        },
        "id": "MEOG8wX8nrjT",
        "outputId": "b1643f01-adc0-4b60-c7d2-fcc41a64f29a"
      },
      "source": [
        "print (movies_df['facenumber_in_poster'].min())\n",
        "print (movies_df['facenumber_in_poster'].idxmax())\n",
        "print (movies_df[['movie_title', 'facenumber_in_poster']].iloc[movies_df['facenumber_in_poster'].idxmax()])\n",
        "print (movies_df['facenumber_in_poster'].describe())\n",
        "# budget column is massively varying. so we are in dire need to drop outliers\n",
        "#best option for dropping outliers is to use zscore method and reject all rows in non-object type columns"
      ],
      "execution_count": null,
      "outputs": [
        {
          "output_type": "stream",
          "name": "stdout",
          "text": [
            "0.0\n",
            "3468\n",
            "movie_title             Witchboard \n",
            "facenumber_in_poster              1\n",
            "Name: 4280, dtype: object\n",
            "count    3756.000000\n",
            "mean        1.377263\n",
            "std         2.041541\n",
            "min         0.000000\n",
            "25%         0.000000\n",
            "50%         1.000000\n",
            "75%         2.000000\n",
            "max        43.000000\n",
            "Name: facenumber_in_poster, dtype: float64\n"
          ]
        }
      ]
    },
    {
      "cell_type": "code",
      "metadata": {
        "colab": {
          "base_uri": "https://localhost:8080/"
        },
        "id": "JcnBoHGgoUSi",
        "outputId": "b6ecf655-d362-4f2c-feaa-801a4845c9f4"
      },
      "source": [
        "#____________________________________________________________________________________\n",
        "# Use Z Score from Scipy Stats \n",
        "# https://docs.scipy.org/doc/scipy/reference/generated/scipy.stats.zscore.html\n",
        "#____________________________________________________________________________________\n",
        "# will try first using the z score method \n",
        "# z score is basically how many standard deviation away a point is from the mean. Closer the value of z is towards 0, the data point is closer to the mean. \n",
        "\n",
        "#first detect outlier for a particular column\n",
        "\n",
        "print (movies_df.dtypes)\n",
        "movies_df_num = movies_df.select_dtypes(exclude=['object'])\n",
        "print (movies_df_num.shape )\n",
        "# 12 object type columns were dropped. \n"
      ],
      "execution_count": null,
      "outputs": [
        {
          "output_type": "stream",
          "name": "stdout",
          "text": [
            "color                          object\n",
            "director_name                  object\n",
            "num_critic_for_reviews        float64\n",
            "duration                      float64\n",
            "director_facebook_likes       float64\n",
            "actor_3_facebook_likes        float64\n",
            "actor_2_name                   object\n",
            "actor_1_facebook_likes        float64\n",
            "gross                         float64\n",
            "genres                         object\n",
            "actor_1_name                   object\n",
            "movie_title                    object\n",
            "num_voted_users                 int64\n",
            "cast_total_facebook_likes       int64\n",
            "actor_3_name                   object\n",
            "facenumber_in_poster          float64\n",
            "plot_keywords                  object\n",
            "movie_imdb_link                object\n",
            "num_user_for_reviews          float64\n",
            "language                       object\n",
            "country                        object\n",
            "content_rating                 object\n",
            "budget                        float64\n",
            "title_year                    float64\n",
            "actor_2_facebook_likes        float64\n",
            "imdb_score                    float64\n",
            "aspect_ratio                  float64\n",
            "movie_facebook_likes            int64\n",
            "imdb_labels                  category\n",
            "dtype: object\n",
            "(3756, 17)\n"
          ]
        }
      ]
    },
    {
      "cell_type": "code",
      "metadata": {
        "colab": {
          "base_uri": "https://localhost:8080/",
          "height": 488
        },
        "id": "oAZlBR-Uqqa_",
        "outputId": "cb4e947c-f88a-4f53-e9e8-0683a8930d92"
      },
      "source": [
        "movies_df_num"
      ],
      "execution_count": null,
      "outputs": [
        {
          "output_type": "execute_result",
          "data": {
            "text/html": [
              "\n",
              "  <div id=\"df-d05f2b6d-dac0-4613-bf58-7e317b2baf59\">\n",
              "    <div class=\"colab-df-container\">\n",
              "      <div>\n",
              "<style scoped>\n",
              "    .dataframe tbody tr th:only-of-type {\n",
              "        vertical-align: middle;\n",
              "    }\n",
              "\n",
              "    .dataframe tbody tr th {\n",
              "        vertical-align: top;\n",
              "    }\n",
              "\n",
              "    .dataframe thead th {\n",
              "        text-align: right;\n",
              "    }\n",
              "</style>\n",
              "<table border=\"1\" class=\"dataframe\">\n",
              "  <thead>\n",
              "    <tr style=\"text-align: right;\">\n",
              "      <th></th>\n",
              "      <th>num_critic_for_reviews</th>\n",
              "      <th>duration</th>\n",
              "      <th>director_facebook_likes</th>\n",
              "      <th>actor_3_facebook_likes</th>\n",
              "      <th>actor_1_facebook_likes</th>\n",
              "      <th>gross</th>\n",
              "      <th>num_voted_users</th>\n",
              "      <th>cast_total_facebook_likes</th>\n",
              "      <th>facenumber_in_poster</th>\n",
              "      <th>num_user_for_reviews</th>\n",
              "      <th>budget</th>\n",
              "      <th>title_year</th>\n",
              "      <th>actor_2_facebook_likes</th>\n",
              "      <th>imdb_score</th>\n",
              "      <th>aspect_ratio</th>\n",
              "      <th>movie_facebook_likes</th>\n",
              "      <th>imdb_labels</th>\n",
              "    </tr>\n",
              "  </thead>\n",
              "  <tbody>\n",
              "    <tr>\n",
              "      <th>0</th>\n",
              "      <td>723.0</td>\n",
              "      <td>178.0</td>\n",
              "      <td>0.0</td>\n",
              "      <td>855.0</td>\n",
              "      <td>1000.0</td>\n",
              "      <td>760505847.0</td>\n",
              "      <td>886204</td>\n",
              "      <td>4834</td>\n",
              "      <td>0.0</td>\n",
              "      <td>3054.0</td>\n",
              "      <td>237000000.0</td>\n",
              "      <td>2009.0</td>\n",
              "      <td>936.0</td>\n",
              "      <td>7.9</td>\n",
              "      <td>1.78</td>\n",
              "      <td>33000</td>\n",
              "      <td>good</td>\n",
              "    </tr>\n",
              "    <tr>\n",
              "      <th>1</th>\n",
              "      <td>302.0</td>\n",
              "      <td>169.0</td>\n",
              "      <td>563.0</td>\n",
              "      <td>1000.0</td>\n",
              "      <td>40000.0</td>\n",
              "      <td>309404152.0</td>\n",
              "      <td>471220</td>\n",
              "      <td>48350</td>\n",
              "      <td>0.0</td>\n",
              "      <td>1238.0</td>\n",
              "      <td>300000000.0</td>\n",
              "      <td>2007.0</td>\n",
              "      <td>5000.0</td>\n",
              "      <td>7.1</td>\n",
              "      <td>2.35</td>\n",
              "      <td>0</td>\n",
              "      <td>good</td>\n",
              "    </tr>\n",
              "    <tr>\n",
              "      <th>2</th>\n",
              "      <td>602.0</td>\n",
              "      <td>148.0</td>\n",
              "      <td>0.0</td>\n",
              "      <td>161.0</td>\n",
              "      <td>11000.0</td>\n",
              "      <td>200074175.0</td>\n",
              "      <td>275868</td>\n",
              "      <td>11700</td>\n",
              "      <td>1.0</td>\n",
              "      <td>994.0</td>\n",
              "      <td>245000000.0</td>\n",
              "      <td>2015.0</td>\n",
              "      <td>393.0</td>\n",
              "      <td>6.8</td>\n",
              "      <td>2.35</td>\n",
              "      <td>85000</td>\n",
              "      <td>moderate</td>\n",
              "    </tr>\n",
              "    <tr>\n",
              "      <th>3</th>\n",
              "      <td>813.0</td>\n",
              "      <td>164.0</td>\n",
              "      <td>22000.0</td>\n",
              "      <td>23000.0</td>\n",
              "      <td>27000.0</td>\n",
              "      <td>448130642.0</td>\n",
              "      <td>1144337</td>\n",
              "      <td>106759</td>\n",
              "      <td>0.0</td>\n",
              "      <td>2701.0</td>\n",
              "      <td>250000000.0</td>\n",
              "      <td>2012.0</td>\n",
              "      <td>23000.0</td>\n",
              "      <td>8.5</td>\n",
              "      <td>2.35</td>\n",
              "      <td>164000</td>\n",
              "      <td>good</td>\n",
              "    </tr>\n",
              "    <tr>\n",
              "      <th>5</th>\n",
              "      <td>462.0</td>\n",
              "      <td>132.0</td>\n",
              "      <td>475.0</td>\n",
              "      <td>530.0</td>\n",
              "      <td>640.0</td>\n",
              "      <td>73058679.0</td>\n",
              "      <td>212204</td>\n",
              "      <td>1873</td>\n",
              "      <td>1.0</td>\n",
              "      <td>738.0</td>\n",
              "      <td>263700000.0</td>\n",
              "      <td>2012.0</td>\n",
              "      <td>632.0</td>\n",
              "      <td>6.6</td>\n",
              "      <td>2.35</td>\n",
              "      <td>24000</td>\n",
              "      <td>moderate</td>\n",
              "    </tr>\n",
              "    <tr>\n",
              "      <th>...</th>\n",
              "      <td>...</td>\n",
              "      <td>...</td>\n",
              "      <td>...</td>\n",
              "      <td>...</td>\n",
              "      <td>...</td>\n",
              "      <td>...</td>\n",
              "      <td>...</td>\n",
              "      <td>...</td>\n",
              "      <td>...</td>\n",
              "      <td>...</td>\n",
              "      <td>...</td>\n",
              "      <td>...</td>\n",
              "      <td>...</td>\n",
              "      <td>...</td>\n",
              "      <td>...</td>\n",
              "      <td>...</td>\n",
              "      <td>...</td>\n",
              "    </tr>\n",
              "    <tr>\n",
              "      <th>5026</th>\n",
              "      <td>81.0</td>\n",
              "      <td>110.0</td>\n",
              "      <td>107.0</td>\n",
              "      <td>45.0</td>\n",
              "      <td>576.0</td>\n",
              "      <td>136007.0</td>\n",
              "      <td>3924</td>\n",
              "      <td>776</td>\n",
              "      <td>1.0</td>\n",
              "      <td>39.0</td>\n",
              "      <td>4500.0</td>\n",
              "      <td>2004.0</td>\n",
              "      <td>133.0</td>\n",
              "      <td>6.9</td>\n",
              "      <td>2.35</td>\n",
              "      <td>171</td>\n",
              "      <td>moderate</td>\n",
              "    </tr>\n",
              "    <tr>\n",
              "      <th>5027</th>\n",
              "      <td>64.0</td>\n",
              "      <td>90.0</td>\n",
              "      <td>397.0</td>\n",
              "      <td>0.0</td>\n",
              "      <td>5.0</td>\n",
              "      <td>673780.0</td>\n",
              "      <td>4555</td>\n",
              "      <td>5</td>\n",
              "      <td>0.0</td>\n",
              "      <td>26.0</td>\n",
              "      <td>10000.0</td>\n",
              "      <td>2000.0</td>\n",
              "      <td>0.0</td>\n",
              "      <td>7.5</td>\n",
              "      <td>1.85</td>\n",
              "      <td>697</td>\n",
              "      <td>good</td>\n",
              "    </tr>\n",
              "    <tr>\n",
              "      <th>5033</th>\n",
              "      <td>143.0</td>\n",
              "      <td>77.0</td>\n",
              "      <td>291.0</td>\n",
              "      <td>8.0</td>\n",
              "      <td>291.0</td>\n",
              "      <td>424760.0</td>\n",
              "      <td>72639</td>\n",
              "      <td>368</td>\n",
              "      <td>0.0</td>\n",
              "      <td>371.0</td>\n",
              "      <td>7000.0</td>\n",
              "      <td>2004.0</td>\n",
              "      <td>45.0</td>\n",
              "      <td>7.0</td>\n",
              "      <td>1.85</td>\n",
              "      <td>19000</td>\n",
              "      <td>moderate</td>\n",
              "    </tr>\n",
              "    <tr>\n",
              "      <th>5035</th>\n",
              "      <td>56.0</td>\n",
              "      <td>81.0</td>\n",
              "      <td>0.0</td>\n",
              "      <td>6.0</td>\n",
              "      <td>121.0</td>\n",
              "      <td>2040920.0</td>\n",
              "      <td>52055</td>\n",
              "      <td>147</td>\n",
              "      <td>0.0</td>\n",
              "      <td>130.0</td>\n",
              "      <td>7000.0</td>\n",
              "      <td>1992.0</td>\n",
              "      <td>20.0</td>\n",
              "      <td>6.9</td>\n",
              "      <td>1.37</td>\n",
              "      <td>0</td>\n",
              "      <td>moderate</td>\n",
              "    </tr>\n",
              "    <tr>\n",
              "      <th>5042</th>\n",
              "      <td>43.0</td>\n",
              "      <td>90.0</td>\n",
              "      <td>16.0</td>\n",
              "      <td>16.0</td>\n",
              "      <td>86.0</td>\n",
              "      <td>85222.0</td>\n",
              "      <td>4285</td>\n",
              "      <td>163</td>\n",
              "      <td>0.0</td>\n",
              "      <td>84.0</td>\n",
              "      <td>1100.0</td>\n",
              "      <td>2004.0</td>\n",
              "      <td>23.0</td>\n",
              "      <td>6.6</td>\n",
              "      <td>1.85</td>\n",
              "      <td>456</td>\n",
              "      <td>moderate</td>\n",
              "    </tr>\n",
              "  </tbody>\n",
              "</table>\n",
              "<p>3756 rows × 17 columns</p>\n",
              "</div>\n",
              "      <button class=\"colab-df-convert\" onclick=\"convertToInteractive('df-d05f2b6d-dac0-4613-bf58-7e317b2baf59')\"\n",
              "              title=\"Convert this dataframe to an interactive table.\"\n",
              "              style=\"display:none;\">\n",
              "        \n",
              "  <svg xmlns=\"http://www.w3.org/2000/svg\" height=\"24px\"viewBox=\"0 0 24 24\"\n",
              "       width=\"24px\">\n",
              "    <path d=\"M0 0h24v24H0V0z\" fill=\"none\"/>\n",
              "    <path d=\"M18.56 5.44l.94 2.06.94-2.06 2.06-.94-2.06-.94-.94-2.06-.94 2.06-2.06.94zm-11 1L8.5 8.5l.94-2.06 2.06-.94-2.06-.94L8.5 2.5l-.94 2.06-2.06.94zm10 10l.94 2.06.94-2.06 2.06-.94-2.06-.94-.94-2.06-.94 2.06-2.06.94z\"/><path d=\"M17.41 7.96l-1.37-1.37c-.4-.4-.92-.59-1.43-.59-.52 0-1.04.2-1.43.59L10.3 9.45l-7.72 7.72c-.78.78-.78 2.05 0 2.83L4 21.41c.39.39.9.59 1.41.59.51 0 1.02-.2 1.41-.59l7.78-7.78 2.81-2.81c.8-.78.8-2.07 0-2.86zM5.41 20L4 18.59l7.72-7.72 1.47 1.35L5.41 20z\"/>\n",
              "  </svg>\n",
              "      </button>\n",
              "      \n",
              "  <style>\n",
              "    .colab-df-container {\n",
              "      display:flex;\n",
              "      flex-wrap:wrap;\n",
              "      gap: 12px;\n",
              "    }\n",
              "\n",
              "    .colab-df-convert {\n",
              "      background-color: #E8F0FE;\n",
              "      border: none;\n",
              "      border-radius: 50%;\n",
              "      cursor: pointer;\n",
              "      display: none;\n",
              "      fill: #1967D2;\n",
              "      height: 32px;\n",
              "      padding: 0 0 0 0;\n",
              "      width: 32px;\n",
              "    }\n",
              "\n",
              "    .colab-df-convert:hover {\n",
              "      background-color: #E2EBFA;\n",
              "      box-shadow: 0px 1px 2px rgba(60, 64, 67, 0.3), 0px 1px 3px 1px rgba(60, 64, 67, 0.15);\n",
              "      fill: #174EA6;\n",
              "    }\n",
              "\n",
              "    [theme=dark] .colab-df-convert {\n",
              "      background-color: #3B4455;\n",
              "      fill: #D2E3FC;\n",
              "    }\n",
              "\n",
              "    [theme=dark] .colab-df-convert:hover {\n",
              "      background-color: #434B5C;\n",
              "      box-shadow: 0px 1px 3px 1px rgba(0, 0, 0, 0.15);\n",
              "      filter: drop-shadow(0px 1px 2px rgba(0, 0, 0, 0.3));\n",
              "      fill: #FFFFFF;\n",
              "    }\n",
              "  </style>\n",
              "\n",
              "      <script>\n",
              "        const buttonEl =\n",
              "          document.querySelector('#df-d05f2b6d-dac0-4613-bf58-7e317b2baf59 button.colab-df-convert');\n",
              "        buttonEl.style.display =\n",
              "          google.colab.kernel.accessAllowed ? 'block' : 'none';\n",
              "\n",
              "        async function convertToInteractive(key) {\n",
              "          const element = document.querySelector('#df-d05f2b6d-dac0-4613-bf58-7e317b2baf59');\n",
              "          const dataTable =\n",
              "            await google.colab.kernel.invokeFunction('convertToInteractive',\n",
              "                                                     [key], {});\n",
              "          if (!dataTable) return;\n",
              "\n",
              "          const docLinkHtml = 'Like what you see? Visit the ' +\n",
              "            '<a target=\"_blank\" href=https://colab.research.google.com/notebooks/data_table.ipynb>data table notebook</a>'\n",
              "            + ' to learn more about interactive tables.';\n",
              "          element.innerHTML = '';\n",
              "          dataTable['output_type'] = 'display_data';\n",
              "          await google.colab.output.renderOutput(dataTable, element);\n",
              "          const docLink = document.createElement('div');\n",
              "          docLink.innerHTML = docLinkHtml;\n",
              "          element.appendChild(docLink);\n",
              "        }\n",
              "      </script>\n",
              "    </div>\n",
              "  </div>\n",
              "  "
            ],
            "text/plain": [
              "      num_critic_for_reviews  duration  ...  movie_facebook_likes  imdb_labels\n",
              "0                      723.0     178.0  ...                 33000         good\n",
              "1                      302.0     169.0  ...                     0         good\n",
              "2                      602.0     148.0  ...                 85000     moderate\n",
              "3                      813.0     164.0  ...                164000         good\n",
              "5                      462.0     132.0  ...                 24000     moderate\n",
              "...                      ...       ...  ...                   ...          ...\n",
              "5026                    81.0     110.0  ...                   171     moderate\n",
              "5027                    64.0      90.0  ...                   697         good\n",
              "5033                   143.0      77.0  ...                 19000     moderate\n",
              "5035                    56.0      81.0  ...                     0     moderate\n",
              "5042                    43.0      90.0  ...                   456     moderate\n",
              "\n",
              "[3756 rows x 17 columns]"
            ]
          },
          "metadata": {},
          "execution_count": 30
        }
      ]
    },
    {
      "cell_type": "code",
      "metadata": {
        "colab": {
          "base_uri": "https://localhost:8080/",
          "height": 488
        },
        "id": "o2Ur8f65q3AE",
        "outputId": "f329a299-8ea1-469e-96d5-aa37d73127a0"
      },
      "source": [
        "from scipy.stats import zscore\n",
        "\n",
        "numeric_cols = movies_df_num.select_dtypes(include=[np.number]).columns\n",
        "movies_df_num[numeric_cols].apply(zscore)\n",
        "\n",
        "#print(movies_df_num.apply(zscore))"
      ],
      "execution_count": null,
      "outputs": [
        {
          "output_type": "execute_result",
          "data": {
            "text/html": [
              "\n",
              "  <div id=\"df-09c60ee0-b231-4ff6-9376-c59d4963d1ed\">\n",
              "    <div class=\"colab-df-container\">\n",
              "      <div>\n",
              "<style scoped>\n",
              "    .dataframe tbody tr th:only-of-type {\n",
              "        vertical-align: middle;\n",
              "    }\n",
              "\n",
              "    .dataframe tbody tr th {\n",
              "        vertical-align: top;\n",
              "    }\n",
              "\n",
              "    .dataframe thead th {\n",
              "        text-align: right;\n",
              "    }\n",
              "</style>\n",
              "<table border=\"1\" class=\"dataframe\">\n",
              "  <thead>\n",
              "    <tr style=\"text-align: right;\">\n",
              "      <th></th>\n",
              "      <th>num_critic_for_reviews</th>\n",
              "      <th>duration</th>\n",
              "      <th>director_facebook_likes</th>\n",
              "      <th>actor_3_facebook_likes</th>\n",
              "      <th>actor_1_facebook_likes</th>\n",
              "      <th>gross</th>\n",
              "      <th>num_voted_users</th>\n",
              "      <th>cast_total_facebook_likes</th>\n",
              "      <th>facenumber_in_poster</th>\n",
              "      <th>num_user_for_reviews</th>\n",
              "      <th>budget</th>\n",
              "      <th>title_year</th>\n",
              "      <th>actor_2_facebook_likes</th>\n",
              "      <th>imdb_score</th>\n",
              "      <th>aspect_ratio</th>\n",
              "      <th>movie_facebook_likes</th>\n",
              "    </tr>\n",
              "  </thead>\n",
              "  <tbody>\n",
              "    <tr>\n",
              "      <th>0</th>\n",
              "      <td>4.501308</td>\n",
              "      <td>2.991649</td>\n",
              "      <td>-0.263168</td>\n",
              "      <td>0.044203</td>\n",
              "      <td>-0.435085</td>\n",
              "      <td>10.068384</td>\n",
              "      <td>5.133549</td>\n",
              "      <td>-0.350064</td>\n",
              "      <td>-0.674709</td>\n",
              "      <td>6.608312</td>\n",
              "      <td>0.844159</td>\n",
              "      <td>0.609240</td>\n",
              "      <td>-0.238931</td>\n",
              "      <td>1.358498</td>\n",
              "      <td>-0.937662</td>\n",
              "      <td>1.101870</td>\n",
              "    </tr>\n",
              "    <tr>\n",
              "      <th>1</th>\n",
              "      <td>1.090623</td>\n",
              "      <td>2.594188</td>\n",
              "      <td>-0.079646</td>\n",
              "      <td>0.120761</td>\n",
              "      <td>2.078243</td>\n",
              "      <td>3.652351</td>\n",
              "      <td>2.403663</td>\n",
              "      <td>1.925921</td>\n",
              "      <td>-0.674709</td>\n",
              "      <td>2.191675</td>\n",
              "      <td>1.122944</td>\n",
              "      <td>0.406950</td>\n",
              "      <td>0.655375</td>\n",
              "      <td>0.600998</td>\n",
              "      <td>0.676973</td>\n",
              "      <td>-0.435872</td>\n",
              "    </tr>\n",
              "    <tr>\n",
              "      <th>2</th>\n",
              "      <td>3.521040</td>\n",
              "      <td>1.666778</td>\n",
              "      <td>-0.263168</td>\n",
              "      <td>-0.322218</td>\n",
              "      <td>0.209358</td>\n",
              "      <td>2.097347</td>\n",
              "      <td>1.118581</td>\n",
              "      <td>0.009043</td>\n",
              "      <td>-0.184818</td>\n",
              "      <td>1.598250</td>\n",
              "      <td>0.879560</td>\n",
              "      <td>1.216110</td>\n",
              "      <td>-0.358421</td>\n",
              "      <td>0.316936</td>\n",
              "      <td>0.676973</td>\n",
              "      <td>3.524979</td>\n",
              "    </tr>\n",
              "    <tr>\n",
              "      <th>3</th>\n",
              "      <td>5.230433</td>\n",
              "      <td>2.373376</td>\n",
              "      <td>6.908181</td>\n",
              "      <td>11.736403</td>\n",
              "      <td>1.240467</td>\n",
              "      <td>5.625462</td>\n",
              "      <td>6.831623</td>\n",
              "      <td>4.980844</td>\n",
              "      <td>-0.674709</td>\n",
              "      <td>5.749791</td>\n",
              "      <td>0.901686</td>\n",
              "      <td>0.912675</td>\n",
              "      <td>4.616379</td>\n",
              "      <td>1.926622</td>\n",
              "      <td>0.676973</td>\n",
              "      <td>7.206241</td>\n",
              "    </tr>\n",
              "    <tr>\n",
              "      <th>5</th>\n",
              "      <td>2.386845</td>\n",
              "      <td>0.960179</td>\n",
              "      <td>-0.108332</td>\n",
              "      <td>-0.127392</td>\n",
              "      <td>-0.458285</td>\n",
              "      <td>0.290802</td>\n",
              "      <td>0.699781</td>\n",
              "      <td>-0.504931</td>\n",
              "      <td>-0.184818</td>\n",
              "      <td>0.975641</td>\n",
              "      <td>0.962311</td>\n",
              "      <td>0.912675</td>\n",
              "      <td>-0.305828</td>\n",
              "      <td>0.127561</td>\n",
              "      <td>0.676973</td>\n",
              "      <td>0.682486</td>\n",
              "    </tr>\n",
              "    <tr>\n",
              "      <th>...</th>\n",
              "      <td>...</td>\n",
              "      <td>...</td>\n",
              "      <td>...</td>\n",
              "      <td>...</td>\n",
              "      <td>...</td>\n",
              "      <td>...</td>\n",
              "      <td>...</td>\n",
              "      <td>...</td>\n",
              "      <td>...</td>\n",
              "      <td>...</td>\n",
              "      <td>...</td>\n",
              "      <td>...</td>\n",
              "      <td>...</td>\n",
              "      <td>...</td>\n",
              "      <td>...</td>\n",
              "      <td>...</td>\n",
              "    </tr>\n",
              "    <tr>\n",
              "      <th>5026</th>\n",
              "      <td>-0.699785</td>\n",
              "      <td>-0.011393</td>\n",
              "      <td>-0.228289</td>\n",
              "      <td>-0.383464</td>\n",
              "      <td>-0.462410</td>\n",
              "      <td>-0.746379</td>\n",
              "      <td>-0.670346</td>\n",
              "      <td>-0.562307</td>\n",
              "      <td>-0.184818</td>\n",
              "      <td>-0.724375</td>\n",
              "      <td>-0.204586</td>\n",
              "      <td>0.103515</td>\n",
              "      <td>-0.415636</td>\n",
              "      <td>0.411623</td>\n",
              "      <td>0.676973</td>\n",
              "      <td>-0.427904</td>\n",
              "    </tr>\n",
              "    <tr>\n",
              "      <th>5027</th>\n",
              "      <td>-0.837508</td>\n",
              "      <td>-0.894641</td>\n",
              "      <td>-0.133758</td>\n",
              "      <td>-0.407223</td>\n",
              "      <td>-0.499207</td>\n",
              "      <td>-0.738731</td>\n",
              "      <td>-0.666195</td>\n",
              "      <td>-0.602632</td>\n",
              "      <td>-0.674709</td>\n",
              "      <td>-0.755992</td>\n",
              "      <td>-0.204562</td>\n",
              "      <td>-0.301065</td>\n",
              "      <td>-0.444903</td>\n",
              "      <td>0.979748</td>\n",
              "      <td>-0.739374</td>\n",
              "      <td>-0.403393</td>\n",
              "    </tr>\n",
              "    <tr>\n",
              "      <th>5033</th>\n",
              "      <td>-0.197498</td>\n",
              "      <td>-1.468752</td>\n",
              "      <td>-0.168310</td>\n",
              "      <td>-0.402999</td>\n",
              "      <td>-0.480776</td>\n",
              "      <td>-0.742272</td>\n",
              "      <td>-0.218319</td>\n",
              "      <td>-0.583646</td>\n",
              "      <td>-0.674709</td>\n",
              "      <td>0.083072</td>\n",
              "      <td>-0.204575</td>\n",
              "      <td>0.103515</td>\n",
              "      <td>-0.435001</td>\n",
              "      <td>0.506311</td>\n",
              "      <td>-0.739374</td>\n",
              "      <td>0.449495</td>\n",
              "    </tr>\n",
              "    <tr>\n",
              "      <th>5035</th>\n",
              "      <td>-0.902319</td>\n",
              "      <td>-1.292103</td>\n",
              "      <td>-0.263168</td>\n",
              "      <td>-0.404055</td>\n",
              "      <td>-0.491732</td>\n",
              "      <td>-0.719286</td>\n",
              "      <td>-0.353726</td>\n",
              "      <td>-0.595205</td>\n",
              "      <td>-0.674709</td>\n",
              "      <td>-0.503057</td>\n",
              "      <td>-0.204575</td>\n",
              "      <td>-1.110226</td>\n",
              "      <td>-0.440502</td>\n",
              "      <td>0.411623</td>\n",
              "      <td>-2.099066</td>\n",
              "      <td>-0.435872</td>\n",
              "    </tr>\n",
              "    <tr>\n",
              "      <th>5042</th>\n",
              "      <td>-1.007637</td>\n",
              "      <td>-0.894641</td>\n",
              "      <td>-0.257952</td>\n",
              "      <td>-0.398775</td>\n",
              "      <td>-0.493987</td>\n",
              "      <td>-0.747102</td>\n",
              "      <td>-0.667971</td>\n",
              "      <td>-0.594368</td>\n",
              "      <td>-0.674709</td>\n",
              "      <td>-0.614932</td>\n",
              "      <td>-0.204601</td>\n",
              "      <td>0.103515</td>\n",
              "      <td>-0.439842</td>\n",
              "      <td>0.127561</td>\n",
              "      <td>-0.739374</td>\n",
              "      <td>-0.414623</td>\n",
              "    </tr>\n",
              "  </tbody>\n",
              "</table>\n",
              "<p>3756 rows × 16 columns</p>\n",
              "</div>\n",
              "      <button class=\"colab-df-convert\" onclick=\"convertToInteractive('df-09c60ee0-b231-4ff6-9376-c59d4963d1ed')\"\n",
              "              title=\"Convert this dataframe to an interactive table.\"\n",
              "              style=\"display:none;\">\n",
              "        \n",
              "  <svg xmlns=\"http://www.w3.org/2000/svg\" height=\"24px\"viewBox=\"0 0 24 24\"\n",
              "       width=\"24px\">\n",
              "    <path d=\"M0 0h24v24H0V0z\" fill=\"none\"/>\n",
              "    <path d=\"M18.56 5.44l.94 2.06.94-2.06 2.06-.94-2.06-.94-.94-2.06-.94 2.06-2.06.94zm-11 1L8.5 8.5l.94-2.06 2.06-.94-2.06-.94L8.5 2.5l-.94 2.06-2.06.94zm10 10l.94 2.06.94-2.06 2.06-.94-2.06-.94-.94-2.06-.94 2.06-2.06.94z\"/><path d=\"M17.41 7.96l-1.37-1.37c-.4-.4-.92-.59-1.43-.59-.52 0-1.04.2-1.43.59L10.3 9.45l-7.72 7.72c-.78.78-.78 2.05 0 2.83L4 21.41c.39.39.9.59 1.41.59.51 0 1.02-.2 1.41-.59l7.78-7.78 2.81-2.81c.8-.78.8-2.07 0-2.86zM5.41 20L4 18.59l7.72-7.72 1.47 1.35L5.41 20z\"/>\n",
              "  </svg>\n",
              "      </button>\n",
              "      \n",
              "  <style>\n",
              "    .colab-df-container {\n",
              "      display:flex;\n",
              "      flex-wrap:wrap;\n",
              "      gap: 12px;\n",
              "    }\n",
              "\n",
              "    .colab-df-convert {\n",
              "      background-color: #E8F0FE;\n",
              "      border: none;\n",
              "      border-radius: 50%;\n",
              "      cursor: pointer;\n",
              "      display: none;\n",
              "      fill: #1967D2;\n",
              "      height: 32px;\n",
              "      padding: 0 0 0 0;\n",
              "      width: 32px;\n",
              "    }\n",
              "\n",
              "    .colab-df-convert:hover {\n",
              "      background-color: #E2EBFA;\n",
              "      box-shadow: 0px 1px 2px rgba(60, 64, 67, 0.3), 0px 1px 3px 1px rgba(60, 64, 67, 0.15);\n",
              "      fill: #174EA6;\n",
              "    }\n",
              "\n",
              "    [theme=dark] .colab-df-convert {\n",
              "      background-color: #3B4455;\n",
              "      fill: #D2E3FC;\n",
              "    }\n",
              "\n",
              "    [theme=dark] .colab-df-convert:hover {\n",
              "      background-color: #434B5C;\n",
              "      box-shadow: 0px 1px 3px 1px rgba(0, 0, 0, 0.15);\n",
              "      filter: drop-shadow(0px 1px 2px rgba(0, 0, 0, 0.3));\n",
              "      fill: #FFFFFF;\n",
              "    }\n",
              "  </style>\n",
              "\n",
              "      <script>\n",
              "        const buttonEl =\n",
              "          document.querySelector('#df-09c60ee0-b231-4ff6-9376-c59d4963d1ed button.colab-df-convert');\n",
              "        buttonEl.style.display =\n",
              "          google.colab.kernel.accessAllowed ? 'block' : 'none';\n",
              "\n",
              "        async function convertToInteractive(key) {\n",
              "          const element = document.querySelector('#df-09c60ee0-b231-4ff6-9376-c59d4963d1ed');\n",
              "          const dataTable =\n",
              "            await google.colab.kernel.invokeFunction('convertToInteractive',\n",
              "                                                     [key], {});\n",
              "          if (!dataTable) return;\n",
              "\n",
              "          const docLinkHtml = 'Like what you see? Visit the ' +\n",
              "            '<a target=\"_blank\" href=https://colab.research.google.com/notebooks/data_table.ipynb>data table notebook</a>'\n",
              "            + ' to learn more about interactive tables.';\n",
              "          element.innerHTML = '';\n",
              "          dataTable['output_type'] = 'display_data';\n",
              "          await google.colab.output.renderOutput(dataTable, element);\n",
              "          const docLink = document.createElement('div');\n",
              "          docLink.innerHTML = docLinkHtml;\n",
              "          element.appendChild(docLink);\n",
              "        }\n",
              "      </script>\n",
              "    </div>\n",
              "  </div>\n",
              "  "
            ],
            "text/plain": [
              "      num_critic_for_reviews  duration  ...  aspect_ratio  movie_facebook_likes\n",
              "0                   4.501308  2.991649  ...     -0.937662              1.101870\n",
              "1                   1.090623  2.594188  ...      0.676973             -0.435872\n",
              "2                   3.521040  1.666778  ...      0.676973              3.524979\n",
              "3                   5.230433  2.373376  ...      0.676973              7.206241\n",
              "5                   2.386845  0.960179  ...      0.676973              0.682486\n",
              "...                      ...       ...  ...           ...                   ...\n",
              "5026               -0.699785 -0.011393  ...      0.676973             -0.427904\n",
              "5027               -0.837508 -0.894641  ...     -0.739374             -0.403393\n",
              "5033               -0.197498 -1.468752  ...     -0.739374              0.449495\n",
              "5035               -0.902319 -1.292103  ...     -2.099066             -0.435872\n",
              "5042               -1.007637 -0.894641  ...     -0.739374             -0.414623\n",
              "\n",
              "[3756 rows x 16 columns]"
            ]
          },
          "metadata": {},
          "execution_count": 31
        }
      ]
    },
    {
      "cell_type": "code",
      "metadata": {
        "colab": {
          "base_uri": "https://localhost:8080/"
        },
        "id": "d-LYNCD8pjGH",
        "outputId": "11da7aca-ae81-4049-c9ab-97844ad4e8f9"
      },
      "source": [
        "#use z score for all columns in the new data frame \n",
        "movies_df_Zscore = movies_df_num[(np.abs(movies_df_num[numeric_cols].apply(zscore))<=3).all(axis=1)]\n",
        "print (\"shape after rejecting outliers: \")\n",
        "print(movies_df_Zscore.shape)\n",
        "movies_df_Zscore_usr_rev = movies_df_num[(np.abs(stats.zscore(movies_df_num[['num_user_for_reviews']]))<=3).all(axis=1)]\n",
        "print (type(movies_df_Zscore_usr_rev))\n"
      ],
      "execution_count": null,
      "outputs": [
        {
          "output_type": "stream",
          "name": "stdout",
          "text": [
            "shape after rejecting outliers: \n",
            "(3113, 17)\n",
            "<class 'pandas.core.frame.DataFrame'>\n"
          ]
        }
      ]
    },
    {
      "cell_type": "code",
      "metadata": {
        "id": "QmkE3d79adDq",
        "colab": {
          "base_uri": "https://localhost:8080/",
          "height": 640
        },
        "outputId": "2a707f6e-04e6-49f2-b5e2-b4857380066f"
      },
      "source": [
        "fig = plt.figure(figsize=(12,8))\n",
        "plt.subplot(1,2,1)\n",
        "sns.boxplot(x=movies_df['num_user_for_reviews'], color='lime')\n",
        "plt.xlabel('No. of Actors Featured in Poster (After Using Z Score)', fontsize=14)\n",
        "plt.subplot(1,2,2)\n",
        "sns.distplot(movies_df_Zscore['num_user_for_reviews'], color='lime')\n",
        "plt.tight_layout()\n",
        "plt.show()"
      ],
      "execution_count": null,
      "outputs": [
        {
          "output_type": "stream",
          "name": "stderr",
          "text": [
            "/usr/local/lib/python3.7/dist-packages/seaborn/distributions.py:2619: FutureWarning: `distplot` is a deprecated function and will be removed in a future version. Please adapt your code to use either `displot` (a figure-level function with similar flexibility) or `histplot` (an axes-level function for histograms).\n",
            "  warnings.warn(msg, FutureWarning)\n"
          ]
        },
        {
          "output_type": "display_data",
          "data": {
            "image/png": "[encoded data removed]",
            "text/plain": [
              "<Figure size 864x576 with 2 Axes>"
            ]
          },
          "metadata": {
            "needs_background": "light"
          }
        }
      ]
    }
  ]
}
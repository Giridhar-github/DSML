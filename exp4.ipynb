{
  "nbformat": 4,
  "nbformat_minor": 0,
  "metadata": {
    "colab": {
      "name": "exp4.ipynb",
      "provenance": [],
      "collapsed_sections": [],
      "authorship_tag": "ABX9TyOHybpf6XflT1GKSNb/hUTd",
      "include_colab_link": true
    },
    "kernelspec": {
      "name": "python3",
      "display_name": "Python 3"
    },
    "language_info": {
      "name": "python"
    }
  },
  "cells": [
    {
      "cell_type": "markdown",
      "metadata": {
        "id": "view-in-github",
        "colab_type": "text"
      },
      "source": [
        "<a href=\"https://colab.research.google.com/github/Giridhar-github/DSML/blob/main/exp4.ipynb\" target=\"_parent\"><img src=\"https://colab.research.google.com/assets/colab-badge.svg\" alt=\"Open In Colab\"/></a>"
      ]
    },
    {
      "cell_type": "code",
      "metadata": {
        "id": "l95ZQM2RZkXp"
      },
      "source": [
        "import pandas as pd\n",
        "import numpy as np\n",
        "import matplotlib.pyplot as plt\n",
        "import seaborn as sns \n",
        "from scipy import stats"
      ],
      "execution_count": null,
      "outputs": []
    },
    {
      "cell_type": "code",
      "metadata": {
        "colab": {
          "base_uri": "https://localhost:8080/"
        },
        "id": "7VGTua-ydYoK",
        "outputId": "92a606e5-123e-4299-fb5d-6bbe0eb2092b"
      },
      "source": [
        "movies=pd.read_csv(\"IMDb movies.csv\")\n",
        "#print the first five rows with headers\n",
        "print(movies.head(3))"
      ],
      "execution_count": null,
      "outputs": [
        {
          "output_type": "stream",
          "name": "stderr",
          "text": [
            "/usr/local/lib/python3.7/dist-packages/IPython/core/interactiveshell.py:2718: DtypeWarning: Columns (3) have mixed types.Specify dtype option on import or set low_memory=False.\n",
            "  interactivity=interactivity, compiler=compiler, result=result)\n"
          ]
        },
        {
          "output_type": "stream",
          "name": "stdout",
          "text": [
            "                                                                                                               UK  ...  58.0\n",
            "tt0063231 Live a Little, Love a Little Live a Little, Love a Little 1968 1968-10-23 Comedy, Musical, Romance   90  ...   5.0\n",
            "tt0063233 Lo voglio morto              Lo voglio morto              1968 1968-06-15 Western                    82  ...   4.0\n",
            "tt0063236 Lonesome Cowboys             Lonesome Cowboys             1968 1971-05-12 Comedy, Crime, Drama      109  ...  13.0\n",
            "\n",
            "[3 rows x 16 columns]\n"
          ]
        }
      ]
    },
    {
      "cell_type": "code",
      "metadata": {
        "colab": {
          "base_uri": "https://localhost:8080/"
        },
        "id": "hJBQiaC-sc2A",
        "outputId": "ed5efe5a-87bc-4c07-fec7-f37357be2db5"
      },
      "source": [
        "#descriptive statistics\n",
        "print(movies.describe())"
      ],
      "execution_count": 34,
      "outputs": [
        {
          "output_type": "stream",
          "name": "stdout",
          "text": [
            "                 UK           7.9  ...         191.0          58.0\n",
            "count  72262.000000  72262.000000  ...  64979.000000  61549.000000\n",
            "mean     101.980266      5.806851  ...     49.969282     30.116947\n",
            "std       21.772441      1.273496  ...    193.897044     62.834738\n",
            "min       41.000000      1.000000  ...      1.000000      1.000000\n",
            "25%       90.000000      5.100000  ...      3.000000      3.000000\n",
            "50%       97.000000      6.000000  ...      8.000000      9.000000\n",
            "75%      110.000000      6.700000  ...     27.000000     26.000000\n",
            "max      808.000000      9.900000  ...  10472.000000    999.000000\n",
            "\n",
            "[8 rows x 6 columns]\n"
          ]
        }
      ]
    },
    {
      "cell_type": "code",
      "metadata": {
        "colab": {
          "base_uri": "https://localhost:8080/"
        },
        "id": "bvOPWBKejtZo",
        "outputId": "39b0f0b8-b7e0-4568-e33f-98ee892a1ed2"
      },
      "source": [
        "#check nulldata\n",
        "print(\"Null values: \\n\")\n",
        "print(movies.isna()) #same as movies.isnull().sum()\n"
      ],
      "execution_count": 36,
      "outputs": [
        {
          "output_type": "stream",
          "name": "stdout",
          "text": [
            "Null values: \n",
            "\n",
            "                                                                                                                     UK  ...   58.0\n",
            "tt0063231 Live a Little, Love a Little   Live a Little, Love a Little   1968 1968-10-23 Comedy, Musical, Romance  False  ...  False\n",
            "tt0063233 Lo voglio morto                Lo voglio morto                1968 1968-06-15 Western                   False  ...  False\n",
            "tt0063236 Lonesome Cowboys               Lonesome Cowboys               1968 1971-05-12 Comedy, Crime, Drama      False  ...  False\n",
            "tt0063237 Un lungo giorno per morire     The Long Day's Dying           1968 1968-09-27 Drama, War                False  ...  False\n",
            "tt0063240 La nebbia degli orrori         The Lost Continent             1968 1968-06-19 Adventure                 False  ...  False\n",
            "...                                                                                                                 ...  ...    ...\n",
            "tt9908390 Le lion                        Le lion                        2020 2020-01-29 Comedy                    False  ...  False\n",
            "tt9911196 De Beentjes van Sint-Hildegard De Beentjes van Sint-Hildegard 2020 2020-02-13 Comedy, Drama             False  ...  False\n",
            "tt9911774 Padmavyuhathile Abhimanyu      Padmavyuhathile Abhimanyu      2019 2019-03-08 Drama                     False  ...   True\n",
            "tt9914286 Sokagin Çocuklari              Sokagin Çocuklari              2019 2019-03-15 Drama, Family             False  ...   True\n",
            "tt9914942 La vida sense la Sara Amat     La vida sense la Sara Amat     2019 2020-02-05 Drama                     False  ...  False\n",
            "\n",
            "[72262 rows x 16 columns]\n"
          ]
        }
      ]
    },
    {
      "cell_type": "code",
      "metadata": {
        "colab": {
          "base_uri": "https://localhost:8080/"
        },
        "id": "VKiOOKT3tZm4",
        "outputId": "86ffcd17-2cfc-490b-bfba-fcab2e41164e"
      },
      "source": [
        "print(movies.isna().sum())\n"
      ],
      "execution_count": 37,
      "outputs": [
        {
          "output_type": "stream",
          "name": "stdout",
          "text": [
            "UK                                                                                                                                                                                                                               0\n",
            " USA\"                                                                                                                                                                                                                           64\n",
            "English                                                                                                                                                                                                                        636\n",
            "Anthony Harvey                                                                                                                                                                                                                  85\n",
            "James Goldman, James Goldman                                                                                                                                                                                                  1521\n",
            "Haworth Productions                                                                                                                                                                                                           4372\n",
            "Peter O'Toole, Katharine Hepburn, Anthony Hopkins, John Castle, Nigel Terry, Timothy Dalton, Jane Merrow, Nigel Stock, Kenneth Ives, O.Z. Whitehead, Fran Stafford, Ella More, Kenneth Griffith, Henry Woolf, Karol Hagar       67\n",
            "1183 A.D.: King Henry II's three sons all want to inherit the throne, but he won't commit to a choice. They and his wife variously plot to force him.                                                                         2001\n",
            "7.9                                                                                                                                                                                                                              0\n",
            "28450                                                                                                                                                                                                                            0\n",
            "$ 4000000                                                                                                                                                                                                                    51058\n",
            "$ 18177                                                                                                                                                                                                                      57593\n",
            "$ 18177.1                                                                                                                                                                                                                    41853\n",
            "Unnamed: 13                                                                                                                                                                                                                  59383\n",
            "191.0                                                                                                                                                                                                                         7283\n",
            "58.0                                                                                                                                                                                                                         10713\n",
            "dtype: int64\n"
          ]
        }
      ]
    },
    {
      "cell_type": "code",
      "metadata": {
        "colab": {
          "base_uri": "https://localhost:8080/"
        },
        "id": "mTNy50Qktb74",
        "outputId": "c504747a-81dd-4776-cccf-cc1664648b3e"
      },
      "source": [
        "print(\"null values %s \"%movies.isnull().values.any())\n"
      ],
      "execution_count": 38,
      "outputs": [
        {
          "output_type": "stream",
          "name": "stdout",
          "text": [
            "null values True \n"
          ]
        }
      ]
    },
    {
      "cell_type": "code",
      "metadata": {
        "colab": {
          "base_uri": "https://localhost:8080/"
        },
        "id": "l3dfofRttg3H",
        "outputId": "210650da-8491-416c-8d53-99e9bacc6035"
      },
      "source": [
        "print(\"total null values %d\"%movies.isna().sum().sum())\n"
      ],
      "execution_count": 39,
      "outputs": [
        {
          "output_type": "stream",
          "name": "stdout",
          "text": [
            "total null values 236629\n"
          ]
        }
      ]
    },
    {
      "cell_type": "code",
      "metadata": {
        "colab": {
          "base_uri": "https://localhost:8080/"
        },
        "id": "rOLsagXMtjQf",
        "outputId": "c7be83ca-d435-4e1c-b86a-8824eb969090"
      },
      "source": [
        "print(movies.describe())"
      ],
      "execution_count": 40,
      "outputs": [
        {
          "output_type": "stream",
          "name": "stdout",
          "text": [
            "                 UK           7.9  ...         191.0          58.0\n",
            "count  72262.000000  72262.000000  ...  64979.000000  61549.000000\n",
            "mean     101.980266      5.806851  ...     49.969282     30.116947\n",
            "std       21.772441      1.273496  ...    193.897044     62.834738\n",
            "min       41.000000      1.000000  ...      1.000000      1.000000\n",
            "25%       90.000000      5.100000  ...      3.000000      3.000000\n",
            "50%       97.000000      6.000000  ...      8.000000      9.000000\n",
            "75%      110.000000      6.700000  ...     27.000000     26.000000\n",
            "max      808.000000      9.900000  ...  10472.000000    999.000000\n",
            "\n",
            "[8 rows x 6 columns]\n"
          ]
        }
      ]
    },
    {
      "cell_type": "code",
      "metadata": {
        "colab": {
          "base_uri": "https://localhost:8080/"
        },
        "id": "RSE2u6hSsX-p",
        "outputId": "cd6a60d2-2517-4859-d8b3-41d9092592be"
      },
      "source": [
        "print(\"null values\")\n",
        "print(movies.isna())"
      ],
      "execution_count": 35,
      "outputs": [
        {
          "output_type": "stream",
          "name": "stdout",
          "text": [
            "null values\n",
            "                                                                                                                     UK  ...   58.0\n",
            "tt0063231 Live a Little, Love a Little   Live a Little, Love a Little   1968 1968-10-23 Comedy, Musical, Romance  False  ...  False\n",
            "tt0063233 Lo voglio morto                Lo voglio morto                1968 1968-06-15 Western                   False  ...  False\n",
            "tt0063236 Lonesome Cowboys               Lonesome Cowboys               1968 1971-05-12 Comedy, Crime, Drama      False  ...  False\n",
            "tt0063237 Un lungo giorno per morire     The Long Day's Dying           1968 1968-09-27 Drama, War                False  ...  False\n",
            "tt0063240 La nebbia degli orrori         The Lost Continent             1968 1968-06-19 Adventure                 False  ...  False\n",
            "...                                                                                                                 ...  ...    ...\n",
            "tt9908390 Le lion                        Le lion                        2020 2020-01-29 Comedy                    False  ...  False\n",
            "tt9911196 De Beentjes van Sint-Hildegard De Beentjes van Sint-Hildegard 2020 2020-02-13 Comedy, Drama             False  ...  False\n",
            "tt9911774 Padmavyuhathile Abhimanyu      Padmavyuhathile Abhimanyu      2019 2019-03-08 Drama                     False  ...   True\n",
            "tt9914286 Sokagin Çocuklari              Sokagin Çocuklari              2019 2019-03-15 Drama, Family             False  ...   True\n",
            "tt9914942 La vida sense la Sara Amat     La vida sense la Sara Amat     2019 2020-02-05 Drama                     False  ...  False\n",
            "\n",
            "[72262 rows x 16 columns]\n"
          ]
        }
      ]
    },
    {
      "cell_type": "code",
      "metadata": {
        "colab": {
          "base_uri": "https://localhost:8080/",
          "height": 200
        },
        "id": "cihGPsMqw3Lr",
        "outputId": "a075443a-60ca-4e0e-db11-03b60c565bdd"
      },
      "source": [
        "print(movies.shape())"
      ],
      "execution_count": 46,
      "outputs": [
        {
          "output_type": "error",
          "ename": "TypeError",
          "evalue": "ignored",
          "traceback": [
            "\u001b[0;31m---------------------------------------------------------------------------\u001b[0m",
            "\u001b[0;31mTypeError\u001b[0m                                 Traceback (most recent call last)",
            "\u001b[0;32m<ipython-input-46-91515b3c56bb>\u001b[0m in \u001b[0;36m<module>\u001b[0;34m()\u001b[0m\n\u001b[1;32m      1\u001b[0m df = pd.DataFrame({'col1': [1, 2], 'col2': [3, 4],\n\u001b[1;32m      2\u001b[0m                    'col3': [5, 6]})\n\u001b[0;32m----> 3\u001b[0;31m \u001b[0mprint\u001b[0m\u001b[0;34m(\u001b[0m\u001b[0mdf\u001b[0m\u001b[0;34m.\u001b[0m\u001b[0mshape\u001b[0m\u001b[0;34m(\u001b[0m\u001b[0;34m)\u001b[0m\u001b[0;34m)\u001b[0m\u001b[0;34m\u001b[0m\u001b[0;34m\u001b[0m\u001b[0m\n\u001b[0m",
            "\u001b[0;31mTypeError\u001b[0m: 'tuple' object is not callable"
          ]
        }
      ]
    },
    {
      "cell_type": "code",
      "metadata": {
        "id": "VvmNcr4FtMrS"
      },
      "source": [
        ""
      ],
      "execution_count": null,
      "outputs": []
    }
  ]
}
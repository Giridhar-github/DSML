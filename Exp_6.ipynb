{
  "nbformat": 4,
  "nbformat_minor": 0,
  "metadata": {
    "colab": {
      "name": "Exp_6.ipynb",
      "provenance": [],
      "include_colab_link": true
    },
    "kernelspec": {
      "name": "python3",
      "display_name": "Python 3"
    },
    "language_info": {
      "name": "python"
    }
  },
  "cells": [
    {
      "cell_type": "markdown",
      "metadata": {
        "id": "view-in-github",
        "colab_type": "text"
      },
      "source": [
        "<a href=\"https://colab.research.google.com/github/Giridhar-github/DSML/blob/main/Exp_6.ipynb\" target=\"_parent\"><img src=\"https://colab.research.google.com/assets/colab-badge.svg\" alt=\"Open In Colab\"/></a>"
      ]
    },
    {
      "cell_type": "markdown",
      "source": [
        "Aim: Program to implement Naïve Bayes Algorithm using any standard dataset\n",
        "available in the public domain and find the accuracy of the algorithm"
      ],
      "metadata": {
        "id": "f4TwDjLCpTcn"
      }
    },
    {
      "cell_type": "markdown",
      "source": [
        "\n",
        "Short notes: Naive Bayes\n",
        "\n",
        "Bayes’ Theorem provides a way that we can calculate the probability of a piece of data belonging to a given class, given our prior knowledge. Bayes’ Theorem is stated as:\n",
        "\n",
        "P(class|data) = (P(data|class) * P(class)) / P(data)\n",
        "\n",
        "Where P(class|data) is the probability of class given the provided data."
      ],
      "metadata": {
        "id": "_23W0JVJq1-V"
      }
    },
    {
      "cell_type": "markdown",
      "source": [
        "We are using Iris Dataset. The Iris Flower Dataset involves predicting the flower species given measurements of iris flowers.\n",
        "\n",
        "It is a multiclass classification problem. The number of observations for each class is balanced. There are 150 observations with 4 input variables and 1 output variable. The variable names are as follows:\n",
        "\n",
        "Sepal length in cm.\n",
        "\n",
        "Sepal width in cm.\n",
        "\n",
        "Petal length in cm.\n",
        "\n",
        "Petal width in cm., and\n",
        "\n",
        "Class.\n",
        "\n",
        "Algorithm:\n",
        "\n",
        "Step 1: Separate By Class.\n",
        "\n",
        "Step 2: Summarize Dataset.\n",
        "\n",
        "Step 3: Summarize Data By Class.\n",
        "\n",
        "Step 4: Gaussian Probability Density Function.\n",
        "\n",
        "Step 5: Class Probabilities."
      ],
      "metadata": {
        "id": "Aq3NJZhGrENv"
      }
    },
    {
      "cell_type": "code",
      "source": [
        "import numpy as np\n",
        "import matplotlib.pyplot as plt\n",
        "import pandas as pd\n",
        "from sklearn import neighbors, datasets, preprocessing\n",
        "from sklearn.model_selection import train_test_split\n",
        "\n",
        "iris = datasets.load_iris()\n",
        "X, y = iris.data[:, :], iris.target\n",
        "X_train, X_test, y_train, y_test = train_test_split(X, y, stratify = y, random_state = 0, train_size = 0.7)"
      ],
      "metadata": {
        "id": "N3sWnWz_rxIR"
      },
      "execution_count": 1,
      "outputs": []
    },
    {
      "cell_type": "code",
      "source": [
        "#Feature Scaling\n",
        "from sklearn.preprocessing import StandardScaler\n",
        "sc = StandardScaler()\n",
        "X_train = sc.fit_transform(X_train)\n",
        "X_test = sc.transform(X_test)"
      ],
      "metadata": {
        "id": "Jq-Uyizutrxu"
      },
      "execution_count": 2,
      "outputs": []
    },
    {
      "cell_type": "markdown",
      "source": [
        "In this step, we introduce the class GaussianNB that is used from the sklearn.naive_bayes library. Here, we have used a Gaussian model, there are several other models such as Bernoulli, Categorical and Multinomial. Here, we assign the GaussianNB class to the variable classifier and fit the X_train and y_train values to it for training purpose."
      ],
      "metadata": {
        "id": "fHscTWiVt8pC"
      }
    },
    {
      "cell_type": "code",
      "source": [
        "from sklearn.naive_bayes import GaussianNB, BernoulliNB, CategoricalNB\n",
        "from sklearn.metrics import confusion_matrix\n",
        "from sklearn.metrics import accuracy_score \n",
        "scores = []\n",
        "classifier = GaussianNB()\n",
        "classifier.fit(X_train, y_train)\n",
        "y_pred = classifier.predict(X_test) \n",
        "scores.append(accuracy_score(y_test, y_pred))\n",
        "cm = confusion_matrix(y_test, y_pred)\n",
        "cm"
      ],
      "metadata": {
        "colab": {
          "base_uri": "https://localhost:8080/"
        },
        "id": "u0z9mzISuBKw",
        "outputId": "8a811b74-5340-40a4-b677-cb65b2b55fbe"
      },
      "execution_count": 3,
      "outputs": [
        {
          "output_type": "execute_result",
          "data": {
            "text/plain": [
              "array([[15,  0,  0],\n",
              "       [ 0, 15,  0],\n",
              "       [ 0,  1, 14]])"
            ]
          },
          "metadata": {},
          "execution_count": 3
        }
      ]
    },
    {
      "cell_type": "code",
      "source": [
        "classifier1 = BernoulliNB()\n",
        "classifier1.fit(X_train, y_train)\n",
        "y_pred = classifier.predict(X_test) \n",
        "scores.append(accuracy_score(y_test, y_pred))\n",
        "cm = confusion_matrix(y_test, y_pred)\n",
        "cm"
      ],
      "metadata": {
        "colab": {
          "base_uri": "https://localhost:8080/"
        },
        "id": "hv382A48usEq",
        "outputId": "a240d685-44f8-42e1-fd94-97649d9a5480"
      },
      "execution_count": 4,
      "outputs": [
        {
          "output_type": "execute_result",
          "data": {
            "text/plain": [
              "array([[15,  0,  0],\n",
              "       [ 0, 15,  0],\n",
              "       [ 0,  1, 14]])"
            ]
          },
          "metadata": {},
          "execution_count": 4
        }
      ]
    },
    {
      "cell_type": "markdown",
      "source": [
        "From the above confusion matrix, we infer that, out of 45 test set data, 44 were correctly classified and only 1 was incorrectly classified. This gives us a high accuracy of 97.7%."
      ],
      "metadata": {
        "id": "JFg1mUCswAIp"
      }
    },
    {
      "cell_type": "code",
      "source": [
        "#classifier1 = CategoricalNB()\n",
        "#classifier1.fit(X_train, y_train)\n",
        "#y_pred = classifier.predict(X_test) \n",
        "#scores.append(accuracy_score(y_test, y_pred))\n",
        "#ValueError: Negative values in data passed to CategoricalNB (input X)\n"
      ],
      "metadata": {
        "id": "Fn27CaUIvA7C"
      },
      "execution_count": 5,
      "outputs": []
    },
    {
      "cell_type": "code",
      "source": [
        "print(scores)"
      ],
      "metadata": {
        "colab": {
          "base_uri": "https://localhost:8080/"
        },
        "id": "MOpvRv6dvU0y",
        "outputId": "61148aad-d10e-47df-8643-86fdaf1da7ab"
      },
      "execution_count": null,
      "outputs": [
        {
          "output_type": "stream",
          "name": "stdout",
          "text": [
            "[0.9777777777777777, 0.9777777777777777]\n"
          ]
        }
      ]
    }
  ]
}